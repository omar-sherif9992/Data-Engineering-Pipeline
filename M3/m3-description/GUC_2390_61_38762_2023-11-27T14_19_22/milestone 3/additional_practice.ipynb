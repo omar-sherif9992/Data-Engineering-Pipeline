{
 "cells": [
  {
   "cell_type": "code",
   "execution_count": 1,
   "metadata": {
    "ExecuteTime": {
     "end_time": "2022-02-07T19:30:52.291469Z",
     "start_time": "2022-02-07T19:30:51.927370Z"
    },
    "autoscroll": "auto",
    "options": {
     "caption": false,
     "complete": true,
     "display_data": true,
     "display_stream": true,
     "dpi": 200,
     "echo": true,
     "evaluate": false,
     "f_env": null,
     "f_pos": "htpb",
     "f_size": [
      6,
      4
     ],
     "f_spines": true,
     "fig": true,
     "include": true,
     "name": null,
     "option_string": "evaluate=False",
     "results": "verbatim",
     "term": false,
     "wrap": "output"
    }
   },
   "outputs": [],
   "source": [
    "# Import spark packages\n",
    "from pyspark import SparkConf, SparkContext\n",
    "from pyspark.sql import SparkSession\n",
    "from pyspark.sql import Window\n",
    "from pyspark.sql.functions import col,count\n",
    "import pyspark.sql.functions as fn\n",
    "from pyspark.sql.catalog import Catalog\n",
    "from pyspark.sql.types import StructType, StructField\n",
    "from pyspark.sql.types import IntegerType, StringType"
   ]
  },
  {
   "cell_type": "markdown",
   "metadata": {},
   "source": [
    "Start the `SparkSession`"
   ]
  },
  {
   "cell_type": "code",
   "execution_count": 2,
   "metadata": {
    "ExecuteTime": {
     "end_time": "2022-02-07T19:31:03.376425Z",
     "start_time": "2022-02-07T19:30:53.435483Z"
    },
    "autoscroll": "auto",
    "options": {
     "caption": false,
     "complete": true,
     "display_data": true,
     "display_stream": true,
     "dpi": 200,
     "echo": true,
     "evaluate": false,
     "f_env": null,
     "f_pos": "htpb",
     "f_size": [
      6,
      4
     ],
     "f_spines": true,
     "fig": true,
     "include": true,
     "name": null,
     "option_string": "evaluate=False",
     "results": "verbatim",
     "term": false,
     "wrap": "output"
    }
   },
   "outputs": [],
   "source": [
    "conf = SparkConf().setAppName(\"Spark SQL\")\n",
    "sc = SparkContext(conf=conf)\n",
    "\n",
    "spark = (SparkSession\n",
    "    .builder\n",
    "    .appName(\"Spark SQL\")\n",
    "    .getOrCreate()\n",
    ")"
   ]
  },
  {
   "cell_type": "markdown",
   "metadata": {},
   "source": [
    "# Aggregations"
   ]
  },
  {
   "cell_type": "markdown",
   "metadata": {},
   "source": [
    "## Examples using the API"
   ]
  },
  {
   "cell_type": "code",
   "execution_count": 47,
   "metadata": {
    "ExecuteTime": {
     "end_time": "2022-01-26T10:58:35.398306Z",
     "start_time": "2022-01-26T10:58:34.710552Z"
    }
   },
   "outputs": [
    {
     "name": "stdout",
     "output_type": "stream",
     "text": [
      "+--------+-----------------+\n",
      "|prod_cat|  avg(prod_value)|\n",
      "+--------+-----------------+\n",
      "|keyboard|            59.99|\n",
      "|   mouse|43.32333333333333|\n",
      "+--------+-----------------+\n",
      "\n"
     ]
    }
   ],
   "source": [
    "from pyspark.sql import functions as fn\n",
    "\n",
    "products = spark.createDataFrame([\n",
    "    ('1', 'mouse', 'microsoft', 39.99),\n",
    "    ('2', 'mouse', 'microsoft', 59.99),\n",
    "    ('3', 'keyboard', 'microsoft', 59.99),\n",
    "    ('4', 'keyboard', 'logitech', 59.99),\n",
    "    ('5', 'mouse', 'logitech', 29.99),\n",
    "], ['prod_id', 'prod_cat', 'prod_brand', 'prod_value'])\n",
    "\n",
    "products.groupBy('prod_cat').avg('prod_value').show()"
   ]
  },
  {
   "cell_type": "code",
   "execution_count": 48,
   "metadata": {
    "ExecuteTime": {
     "end_time": "2022-01-26T10:58:35.782623Z",
     "start_time": "2022-01-26T10:58:35.400724Z"
    }
   },
   "outputs": [
    {
     "name": "stdout",
     "output_type": "stream",
     "text": [
      "+--------+-----------------+\n",
      "|prod_cat|  avg(prod_value)|\n",
      "+--------+-----------------+\n",
      "|keyboard|            59.99|\n",
      "|   mouse|43.32333333333333|\n",
      "+--------+-----------------+\n",
      "\n"
     ]
    }
   ],
   "source": [
    "products.groupBy('prod_cat').agg(fn.avg('prod_value')).show()"
   ]
  },
  {
   "cell_type": "code",
   "execution_count": 49,
   "metadata": {
    "ExecuteTime": {
     "end_time": "2022-01-26T10:58:36.195471Z",
     "start_time": "2022-01-26T10:58:35.784780Z"
    }
   },
   "outputs": [
    {
     "name": "stdout",
     "output_type": "stream",
     "text": [
      "+----------+--------+---------------+\n",
      "|prod_brand|prod_cat|avg(prod_value)|\n",
      "+----------+--------+---------------+\n",
      "| microsoft|   mouse|          49.99|\n",
      "|  logitech|keyboard|          59.99|\n",
      "| microsoft|keyboard|          59.99|\n",
      "|  logitech|   mouse|          29.99|\n",
      "+----------+--------+---------------+\n",
      "\n"
     ]
    }
   ],
   "source": [
    "from pyspark.sql import functions as fn\n",
    "\n",
    "products.groupBy('prod_brand', 'prod_cat')\\\n",
    "    .agg(fn.avg('prod_value')).show()"
   ]
  },
  {
   "cell_type": "code",
   "execution_count": 64,
   "metadata": {
    "ExecuteTime": {
     "end_time": "2022-11-26T07:49:40.612693Z",
     "start_time": "2022-11-26T07:49:40.457657Z"
    }
   },
   "outputs": [],
   "source": [
    "from pyspark.sql import functions as fn"
   ]
  },
  {
   "cell_type": "code",
   "execution_count": 50,
   "metadata": {
    "ExecuteTime": {
     "end_time": "2022-01-26T10:58:36.650354Z",
     "start_time": "2022-01-26T10:58:36.207985Z"
    }
   },
   "outputs": [
    {
     "name": "stdout",
     "output_type": "stream",
     "text": [
      "+----------+-------+---+-----+\n",
      "|prod_brand|average|sum|  min|\n",
      "+----------+-------+---+-----+\n",
      "|  logitech|   45.0| 90|29.99|\n",
      "| microsoft|   53.3|160|39.99|\n",
      "+----------+-------+---+-----+\n",
      "\n"
     ]
    }
   ],
   "source": [
    "from pyspark.sql import functions as fn\n",
    "\n",
    "products.groupBy('prod_brand').agg(\n",
    "    fn.round(fn.avg('prod_value'), 1).alias('average'),\n",
    "    fn.ceil(fn.sum('prod_value')).alias('sum'),\n",
    "    fn.min('prod_value').alias('min')\n",
    ").show()"
   ]
  },
  {
   "cell_type": "markdown",
   "metadata": {
    "format": "text/markdown"
   },
   "source": [
    "## Analsye US Baby Names 1880-2017\n",
    "=======================\n",
    "\n",
    "\n",
    "Description\n",
    ": US baby names provided by the SSA. \n",
    "\n",
    "This dataset contains all names used\n",
    "for at least 5 children of either sex during a year. \n",
    "\n",
    "\n",
    "The file is made of `1924665` lines and  4 columns.\n",
    "\n",
    "```\n",
    "|-- name: string (nullable = true)\n",
    "    |-- n: integer (nullable = true)\n",
    "    |-- sex: string (nullable = true)\n",
    "    |-- year: integer (nullable = true)\n",
    "```\n",
    "\n",
    "Each row indicates for a given name, sex, and year the number of babies \n",
    "of the given sex who were given that name during the given year. Names \n",
    "with less than 5 occurrences during the year were note recorded. \n",
    "\n",
    "|    name|  n|sex|year|\n",
    "|:--------|:---:|:---:|:----:|\n",
    "|  Emilia|112|  F|1985|\n",
    "|   Kelsi|112|  F|1985|\n",
    "|  Margot|112|  F|1985|\n",
    "|  Mariam|112|  F|1985|\n",
    "|Scarlett|112|  F|1985|"
   ]
  },
  {
   "cell_type": "markdown",
   "metadata": {
    "format": "text/markdown"
   },
   "source": [
    "Load `babynames` from a `csv` or a `parquet` file"
   ]
  },
  {
   "cell_type": "code",
   "execution_count": 5,
   "metadata": {
    "ExecuteTime": {
     "end_time": "2022-02-07T19:31:34.871006Z",
     "start_time": "2022-02-07T19:31:21.595554Z"
    },
    "autoscroll": "auto",
    "options": {
     "caption": false,
     "complete": true,
     "display_data": true,
     "display_stream": true,
     "dpi": 200,
     "echo": true,
     "evaluate": false,
     "f_env": null,
     "f_pos": "htpb",
     "f_size": [
      6,
      4
     ],
     "f_spines": true,
     "fig": true,
     "include": true,
     "name": null,
     "option_string": "evaluate=False",
     "results": "verbatim",
     "term": false,
     "wrap": "output"
    },
    "scrolled": false
   },
   "outputs": [
    {
     "name": "stdout",
     "output_type": "stream",
     "text": [
      "root\n",
      " |-- name: string (nullable = true)\n",
      " |-- n: integer (nullable = true)\n",
      " |-- sex: string (nullable = true)\n",
      " |-- year: double (nullable = true)\n",
      "\n"
     ]
    }
   ],
   "source": [
    "df_sp = spark.read\\\n",
    "             .format('csv')\\\n",
    "             .option(\"header\", \"true\")\\\n",
    "             .option(\"mode\", \"FAILFAST\")\\\n",
    "             .option(\"inferSchema\", \"true\")\\\n",
    "             .option(\"sep\", \",\")\\\n",
    "             .load(\"babynames_short.csv\")\n",
    "# from parquet\n",
    "#df_sp = spark.read.parquet('../data/baby_names_unclean.parquet')\n",
    "df_sp.printSchema()"
   ]
  },
  {
   "cell_type": "markdown",
   "metadata": {
    "format": "text/markdown"
   },
   "source": [
    "\n",
    "Ensure that the dataframe has the following schema:\n",
    "\n",
    "    root\n",
    "        |-- name: string (nullable = true)\n",
    "        |-- n: integer (nullable = true)\n",
    "        |-- sex: string (nullable = true)\n",
    "        |-- year: integer (nullable = true)\n",
    "\n",
    "\n"
   ]
  },
  {
   "cell_type": "markdown",
   "metadata": {},
   "source": [
    "For the first 4 tasks we will use The dataframe API "
   ]
  },
  {
   "cell_type": "markdown",
   "metadata": {},
   "source": [
    "1. What are the 10 most popular names for Females in year 2000.\n",
    "2. What are the 10 most popular names for Males in year 2000."
   ]
  },
  {
   "cell_type": "code",
   "execution_count": 5,
   "metadata": {
    "ExecuteTime": {
     "end_time": "2022-01-14T21:03:23.300377Z",
     "start_time": "2022-01-14T21:03:21.723384Z"
    }
   },
   "outputs": [
    {
     "name": "stdout",
     "output_type": "stream",
     "text": [
      "+---------+-----+---+------+\n",
      "|     name|    n|sex|  year|\n",
      "+---------+-----+---+------+\n",
      "|    Emily|25953|  F|2000.0|\n",
      "|   Hannah|23080|  F|2000.0|\n",
      "|  Madison|19967|  F|2000.0|\n",
      "|   Ashley|17997|  F|2000.0|\n",
      "|    Sarah|17697|  F|2000.0|\n",
      "|   Alexis|17629|  F|2000.0|\n",
      "| Samantha|17266|  F|2000.0|\n",
      "|  Jessica|15709|  F|2000.0|\n",
      "|Elizabeth|15094|  F|2000.0|\n",
      "|   Taylor|15078|  F|2000.0|\n",
      "+---------+-----+---+------+\n",
      "\n"
     ]
    }
   ],
   "source": [
    "#Girls Dataframe\n",
    "df_girls=df_sp.select('name','n','sex','year').where((df_sp.sex=='F') & (df_sp.year==2000)).orderBy(df_sp.n,ascending=False).limit(10)\n",
    "df_girls.show()"
   ]
  },
  {
   "cell_type": "code",
   "execution_count": 6,
   "metadata": {
    "ExecuteTime": {
     "end_time": "2022-01-14T21:03:26.521602Z",
     "start_time": "2022-01-14T21:03:25.667290Z"
    }
   },
   "outputs": [
    {
     "name": "stdout",
     "output_type": "stream",
     "text": [
      "+-----------+-----+---+------+\n",
      "|       name|    n|sex|  year|\n",
      "+-----------+-----+---+------+\n",
      "|      Jacob|34471|  M|2000.0|\n",
      "|    Michael|32035|  M|2000.0|\n",
      "|    Matthew|28572|  M|2000.0|\n",
      "|     Joshua|27538|  M|2000.0|\n",
      "|Christopher|24931|  M|2000.0|\n",
      "|   Nicholas|24652|  M|2000.0|\n",
      "|     Andrew|23639|  M|2000.0|\n",
      "|     Joseph|22825|  M|2000.0|\n",
      "|     Daniel|22312|  M|2000.0|\n",
      "|      Tyler|21503|  M|2000.0|\n",
      "+-----------+-----+---+------+\n",
      "\n"
     ]
    }
   ],
   "source": [
    "#Boys Dataframe\n",
    "df_boys=df_sp.select('name','n','sex','year').where((df_sp.sex=='M') & (df_sp.year==2000)).orderBy(df_sp.n,ascending=False).limit(10)\n",
    "df_boys.show()"
   ]
  },
  {
   "cell_type": "markdown",
   "metadata": {},
   "source": [
    "3. Which year had"
   ]
  },
  {
   "cell_type": "markdown",
   "metadata": {},
   "source": [
    "- a) the most distinct female names "
   ]
  },
  {
   "cell_type": "code",
   "execution_count": 7,
   "metadata": {
    "ExecuteTime": {
     "end_time": "2022-02-07T19:33:33.006849Z",
     "start_time": "2022-02-07T19:33:29.417433Z"
    },
    "scrolled": false
   },
   "outputs": [
    {
     "name": "stdout",
     "output_type": "stream",
     "text": [
      "+------+---+-----+\n",
      "|  year|sex|count|\n",
      "+------+---+-----+\n",
      "|2007.0|  F|20560|\n",
      "+------+---+-----+\n",
      "\n"
     ]
    }
   ],
   "source": [
    "df_sp.groupBy('year','sex').agg(count('*').alias('count')).where(col('sex')=='F').orderBy('count',ascending=False).limit(1).show()"
   ]
  },
  {
   "cell_type": "markdown",
   "metadata": {},
   "source": [
    "- b) the most distinct male names"
   ]
  },
  {
   "cell_type": "code",
   "execution_count": 9,
   "metadata": {
    "ExecuteTime": {
     "end_time": "2022-01-14T21:04:14.765486Z",
     "start_time": "2022-01-14T21:04:13.377659Z"
    }
   },
   "outputs": [
    {
     "name": "stdout",
     "output_type": "stream",
     "text": [
      "+------+---+-----+\n",
      "|  year|sex|count|\n",
      "+------+---+-----+\n",
      "|2008.0|  M|14613|\n",
      "+------+---+-----+\n",
      "\n"
     ]
    }
   ],
   "source": [
    "df_sp.groupBy('year','sex').agg(count('*').alias('count')).where(col('sex')=='M').orderBy('count',ascending=False).limit(1).show()"
   ]
  },
  {
   "cell_type": "markdown",
   "metadata": {},
   "source": [
    "- c) the most distict names (both male and female)"
   ]
  },
  {
   "cell_type": "code",
   "execution_count": 10,
   "metadata": {
    "ExecuteTime": {
     "end_time": "2022-01-14T21:04:17.841726Z",
     "start_time": "2022-01-14T21:04:16.407826Z"
    }
   },
   "outputs": [
    {
     "name": "stdout",
     "output_type": "stream",
     "text": [
      "+------+-----+\n",
      "|  year|count|\n",
      "+------+-----+\n",
      "|2008.0|35070|\n",
      "+------+-----+\n",
      "\n"
     ]
    }
   ],
   "source": [
    "df_sp.groupBy('year').agg(count('*').alias('count')).orderBy('count',ascending=False).limit(1).show()"
   ]
  },
  {
   "cell_type": "markdown",
   "metadata": {},
   "source": [
    "4. In the year 2010, how many names where assigned to both males and females."
   ]
  },
  {
   "cell_type": "code",
   "execution_count": 25,
   "metadata": {
    "ExecuteTime": {
     "end_time": "2022-01-14T21:13:07.551442Z",
     "start_time": "2022-01-14T21:13:06.513171Z"
    }
   },
   "outputs": [
    {
     "data": {
      "text/plain": [
       "2444"
      ]
     },
     "execution_count": 25,
     "metadata": {},
     "output_type": "execute_result"
    }
   ],
   "source": [
    "#filter on 2010\n",
    "#count per name\n",
    "#df_x=filter >2\n",
    "#count df_x \n",
    "df_2010=df_sp.select('*').where(df_sp.year==2010)\n",
    "df_2010.groupBy('name').agg(count('*').alias('count')).where(col('count')>1).count()"
   ]
  },
  {
   "cell_type": "markdown",
   "metadata": {},
   "source": [
    "5. Create a new column that shows the length of each name.\n"
   ]
  },
  {
   "cell_type": "code",
   "execution_count": 56,
   "metadata": {
    "ExecuteTime": {
     "end_time": "2022-12-03T20:50:28.207782Z",
     "start_time": "2022-12-03T20:50:28.061823Z"
    }
   },
   "outputs": [
    {
     "name": "stdout",
     "output_type": "stream",
     "text": [
      "+----------+---+---+------+-----------+\n",
      "|      name|  n|sex|  year|name_length|\n",
      "+----------+---+---+------+-----------+\n",
      "|    Emilia|112|  F|1985.0|          6|\n",
      "|     Kelsi|112|  F|1985.0|          5|\n",
      "|    Margot|112|  F|1985.0|          6|\n",
      "|    Mariam|112|  F|1985.0|          6|\n",
      "|  Scarlett|112|  F|1985.0|          8|\n",
      "|      Aida|111|  F|1985.0|          4|\n",
      "|    Ashlei|111|  F|1985.0|          6|\n",
      "|     Greta|111|  F|1985.0|          5|\n",
      "|    Jaimee|111|  F|1985.0|          6|\n",
      "|     Lorna|111|  F|1985.0|          5|\n",
      "|   Rosario|111|  F|1985.0|          7|\n",
      "|     Sandi|111|  F|1985.0|          5|\n",
      "|   Sharina|111|  F|1985.0|          7|\n",
      "|    Tashia|111|  F|1985.0|          6|\n",
      "|     Adina|110|  F|1985.0|          5|\n",
      "|    Ahsley|110|  F|1985.0|          6|\n",
      "|Alessandra|110|  F|1985.0|         10|\n",
      "|    Amalia|110|  F|1985.0|          6|\n",
      "|    Chelsi|110|  F|1985.0|          6|\n",
      "|    Darcie|110|  F|1985.0|          6|\n",
      "+----------+---+---+------+-----------+\n",
      "only showing top 20 rows\n",
      "\n"
     ]
    }
   ],
   "source": [
    "df_sp.withColumn(\"name_length\", fn.length(\"name\")).show()"
   ]
  },
  {
   "cell_type": "markdown",
   "metadata": {},
   "source": [
    "6. Create a new column that shows the total number of times the name have been given to a baby across all years."
   ]
  },
  {
   "cell_type": "code",
   "execution_count": 24,
   "id": "canadian-mumbai",
   "metadata": {
    "ExecuteTime": {
     "end_time": "2022-11-28T20:50:12.629254Z",
     "start_time": "2022-11-28T20:50:11.665921Z"
    }
   },
   "outputs": [
    {
     "name": "stdout",
     "output_type": "stream",
     "text": [
      "+-----------+-------+\n",
      "|       name| sum(n)|\n",
      "+-----------+-------+\n",
      "|      James|5173828|\n",
      "|       John|5137142|\n",
      "|     Robert|4834915|\n",
      "|    Michael|4372536|\n",
      "|       Mary|4138360|\n",
      "|    William|4118553|\n",
      "|      David|3624225|\n",
      "|     Joseph|2614083|\n",
      "|    Richard|2572613|\n",
      "|    Charles|2398453|\n",
      "|     Thomas|2313415|\n",
      "|Christopher|2031626|\n",
      "|     Daniel|1915517|\n",
      "|  Elizabeth|1634860|\n",
      "|    Matthew|1595949|\n",
      "|   Patricia|1576654|\n",
      "|     George|1474117|\n",
      "|   Jennifer|1471118|\n",
      "|      Linda|1456006|\n",
      "|    Anthony|1439784|\n",
      "+-----------+-------+\n",
      "\n"
     ]
    }
   ],
   "source": [
    "df_sp.groupBy(df_sp.name).agg(fn.sum(df_sp.n)).orderBy('sum(n)' , ascending = False).limit(20).show()"
   ]
  },
  {
   "cell_type": "code",
   "execution_count": null,
   "metadata": {},
   "outputs": [],
   "source": []
  }
 ],
 "metadata": {
  "kernelspec": {
   "display_name": "Python 3 (ipykernel)",
   "language": "python",
   "name": "python3"
  },
  "language_info": {
   "codemirror_mode": {
    "name": "ipython",
    "version": 3
   },
   "file_extension": ".py",
   "mimetype": "text/x-python",
   "name": "python",
   "nbconvert_exporter": "python",
   "pygments_lexer": "ipython3",
   "version": "3.11.6"
  }
 },
 "nbformat": 4,
 "nbformat_minor": 4
}
